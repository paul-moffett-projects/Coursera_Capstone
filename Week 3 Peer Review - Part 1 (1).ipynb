{
 "cells": [
  {
   "cell_type": "markdown",
   "metadata": {
    "collapsed": true
   },
   "source": [
    "# Capstone Project Week 3 - Almost There ;)\n",
    "\n",
    "## Data scraping, data frame construction, data exploration, segmentation and clustering"
   ]
  },
  {
   "cell_type": "code",
   "execution_count": 1,
   "metadata": {},
   "outputs": [
    {
     "name": "stdout",
     "output_type": "stream",
     "text": [
      "Waiting for a Spark session to start...\n",
      "Spark Initialization Done! ApplicationId = app-20181101100342-0000\n"
     ]
    }
   ],
   "source": [
    "import pandas as pd\n",
    "import requests\n",
    "import re\n",
    "\n",
    "from bs4 import BeautifulSoup"
   ]
  },
  {
   "cell_type": "code",
   "execution_count": 4,
   "metadata": {},
   "outputs": [],
   "source": [
    "# Get the neighborhood table from the wiki: https://en.wikipedia.org/wiki/List_of_postal_codes_of_Canada:_M\n",
    "\n",
    "neighborhoodDataWikiUrl = 'https://en.wikipedia.org/wiki/List_of_postal_codes_of_Canada:_M'\n",
    "neighborhoodDataRequest  = requests.get(neighborhoodDataWikiUrl)\n",
    "\n",
    "neighborhoodDataSource = neighborhoodDataRequest.text\n",
    "neighborhoodDataSoup = BeautifulSoup(neighborhoodDataSource, \"lxml\")\n",
    "\n",
    "neighborhoodTableRaw = neighborhoodDataSoup.find('table', attrs={'class':'wikitable'})\n",
    "neighborhoodTableRows = neighborhoodTableRaw.find_all('tr')\n",
    "neighborhoodTableHeaders = neighborhoodTableRaw.find_all('th')\n",
    "\n",
    "# First construct a dictionary that will be used to create the data frame. The Keys will be the row headers and the values will be lists \n",
    "# for example {'Postcode': [], 'Borough': [], 'Neighbourhood': []} etc\n",
    "#\n",
    "# This dictionary will need cleaned later to remove any data we don't want\n",
    "neighborhoodDataDict = {}\n",
    "\n",
    "# Add the headers as the dictionary keys \n",
    "for headerTag in neighborhoodTableHeaders:\n",
    "    \n",
    "    headerRawString = headerTag.string\n",
    "    \n",
    "    # The last header has a newline char, we want to remove this to keep everything neat and working\n",
    "    headerRawStriped = headerRawString.strip()\n",
    "    \n",
    "    # Add the header as a key to the dictionary by assigning the header as an empty list into the dictionary\n",
    "    neighborhoodDataDict[headerRawStriped] = []\n",
    "\n",
    "# Debug/testing\n",
    "# print(neighborhoodDataDict)\n",
    "# print()\n",
    "\n",
    "# Now add each of the table values into the related lists, skipping the first item in the list as this is the headers\n",
    "for rowTag in neighborhoodTableRows[1:]:\n",
    "    \n",
    "    # Add the rows tableData to the related dictionary locations\n",
    "    tdSet = rowTag.find_all('td')\n",
    "    \n",
    "    rowPostcodeTag = tdSet[0]\n",
    "    rowBoroughTag = tdSet[1]\n",
    "    rowNeighbourhoodTag = tdSet[2]\n",
    "\n",
    "    # The tags for each row may have links, this will make the value embeded deeper into the tag   \n",
    "    aSetPostcode = rowPostcodeTag.find_all('a')\n",
    "    aSetBorough = rowBoroughTag.find_all('a')\n",
    "    aSetNeighbourhood = rowNeighbourhoodTag.find_all('a')\n",
    "    \n",
    "    Postcode = rowPostcodeTag.string.strip() if not aSetPostcode else aSetPostcode[0].string.strip()\n",
    "    Borough = rowBoroughTag.string.strip() if not aSetBorough else aSetBorough[0].string.strip()\n",
    "    Neighbourhood = rowNeighbourhoodTag.string.strip() if not aSetNeighbourhood else aSetNeighbourhood[0].string.strip()\n",
    "    \n",
    "    # Housekeeping as per assignment rules\n",
    "    if ( Borough == 'Not assigned' ): \n",
    "        # Skip this row\n",
    "        continue\n",
    "    \n",
    "    # Add the rows to the dictionary\n",
    "    neighborhoodDataDict['Postcode'].append(Postcode)\n",
    "    neighborhoodDataDict['Borough'].append(Borough)\n",
    "    neighborhoodDataDict['Neighbourhood'].append(Neighbourhood)\n",
    "\n",
    "# Create the dataFrame\n",
    "dataFrameRaw = pd.DataFrame.from_dict(neighborhoodDataDict)\n",
    "\n",
    "# Housekeeping, combining multiple neighbourhoods for postcodes \n",
    "dataFrameCleanGroup = dataFrameRaw.groupby(['Postcode', 'Neighbourhood'])\n",
    "dataFrameClean = dataFrameCleanGroup.agg('min')\n",
    "\n",
    "print(dataFrameClean.to_string())"
   ]
  },
  {
   "cell_type": "code",
   "execution_count": 3,
   "metadata": {},
   "outputs": [
    {
     "name": "stdout",
     "output_type": "stream",
     "text": [
      "(212, 1)\n"
     ]
    }
   ],
   "source": [
    "print(dataFrameClean.shape)"
   ]
  }
 ],
 "metadata": {
  "kernelspec": {
   "display_name": "Python 3.5 with Spark",
   "language": "python3",
   "name": "python3"
  },
  "language_info": {
   "codemirror_mode": {
    "name": "ipython",
    "version": 3
   },
   "file_extension": ".py",
   "mimetype": "text/x-python",
   "name": "python",
   "nbconvert_exporter": "python",
   "pygments_lexer": "ipython3",
   "version": "3.5.4"
  }
 },
 "nbformat": 4,
 "nbformat_minor": 1
}
